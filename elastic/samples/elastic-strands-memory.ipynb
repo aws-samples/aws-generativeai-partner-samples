{
 "cells": [
  {
   "cell_type": "markdown",
   "metadata": {},
   "source": [
    "# Using Elasticsearch Memory Tool with Strands SDK\n",
    "\n",
    "This notebook demonstrates how to use the `elasticsearch_memory` tool from `strands-tools` to create an agent with persistent memory capabilities backed by Elasticsearch.\n",
    "\n",
    "## Overview\n",
    "\n",
    "The `elasticsearch_memory` tool provides AI agents with the ability to store and retrieve conversation context and information using Elasticsearch as the backend storage. This notebook shows how to:\n",
    "\n",
    "1. Set up the Strands SDK with the elasticsearch_memory tool\n",
    "2. Configure Elasticsearch connection securely\n",
    "3. Create an agent that can store and retrieve memories\n",
    "4. Demonstrate persistent memory across conversations\n",
    "5. Show practical use cases for memory-enabled agents\n",
    "\n",
    "## Prerequisites\n",
    "\n",
    "Before running this notebook, ensure you have:\n",
    "\n",
    "1. An Elasticsearch instance (Elastic Cloud or self-hosted)\n",
    "2. Valid Elasticsearch credentials (URL and API key)\n",
    "3. AWS credentials configured for Bedrock access (required for embeddings)\n",
    "4. Required Python packages installed"
   ]
  },
  {
   "cell_type": "markdown",
   "metadata": {},
   "source": [
    "## Installation\n",
    "\n",
    "First, let's install the required packages with the correct optional dependency:"
   ]
  },
  {
   "cell_type": "code",
   "execution_count": null,
   "metadata": {},
   "outputs": [],
   "source": [
    "!pip install strands-agents \"strands-agents-tools[elasticsearch-memory]\""
   ]
  },
  {
   "cell_type": "markdown",
   "metadata": {},
   "source": [
    "## Importing Libraries"
   ]
  },
  {
   "cell_type": "code",
   "execution_count": null,
   "metadata": {},
   "outputs": [],
   "source": [
    "# Import the necessary libraries\n",
    "from strands import Agent\n",
    "from strands.models import BedrockModel\n",
    "from strands_tools import elasticsearch_memory\n",
    "from getpass import getpass\n",
    "import os"
   ]
  },
  {
   "cell_type": "markdown",
   "metadata": {},
   "source": [
    "## Setting up Elasticsearch Credentials\n",
    "\n",
    "We'll securely collect Elasticsearch credentials using getpass to avoid hardcoding sensitive information:"
   ]
  },
  {
   "cell_type": "code",
   "execution_count": null,
   "metadata": {},
   "outputs": [],
   "source": [
    "# Get Elasticsearch credentials securely\n",
    "es_url = getpass(\"Elastic Cloud URL (or use cloud_id): \")\n",
    "es_api_key = getpass(\"Elastic deployment API Key: \")\n",
    "\n",
    "# Validate that credentials are provided\n",
    "if not es_url:\n",
    "    raise ValueError(\"Elasticsearch URL is required\")\n",
    "if not es_api_key:\n",
    "    raise ValueError(\"Elasticsearch API Key is required\")\n",
    "\n",
    "print(\"✓ Elasticsearch credentials configured\")"
   ]
  },
  {
   "cell_type": "markdown",
   "metadata": {},
   "source": [
    "## Setting up the Bedrock Model\n",
    "\n",
    "Configure the language model that will power our agent:"
   ]
  },
  {
   "cell_type": "code",
   "execution_count": null,
   "metadata": {},
   "outputs": [],
   "source": [
    "# Create a BedrockModel\n",
    "bedrock_model = BedrockModel(\n",
    "    model_id=\"us.anthropic.claude-3-5-sonnet-20241022-v2:0\",\n",
    "    region_name='us-east-1',\n",
    "    temperature=0.3,\n",
    ")\n",
    "\n",
    "print(\"✓ Bedrock model configured\")"
   ]
  },
  {
   "cell_type": "markdown",
   "metadata": {},
   "source": [
    "## Creating the Memory-Enabled Agent\n",
    "\n",
    "Now let's create an agent that uses the elasticsearch_memory tool. The tool will be configured with connection parameters and used directly by the agent:"
   ]
  },
  {
   "cell_type": "code",
   "execution_count": null,
   "metadata": {},
   "outputs": [],
   "source": [
    "# Create an agent with the elasticsearch_memory tool\n",
    "# The tool will be configured when the agent calls it\n",
    "memory_agent = Agent(\n",
    "    model=bedrock_model,\n",
    "    tools=[elasticsearch_memory],\n",
    "    system_prompt=\"\"\"You are a helpful assistant with persistent memory capabilities. \n",
    "    You can store important information about users and conversations using your elasticsearch_memory tool.\n",
    "    Always try to remember key details about users, their preferences, and previous conversations.\n",
    "    When appropriate, retrieve relevant memories to provide personalized responses.\n",
    "    \n",
    "    When using the elasticsearch_memory tool, use these connection parameters:\n",
    "    - es_url: The Elasticsearch URL provided by the user\n",
    "    - api_key: The API key provided by the user  \n",
    "    - index_name: \"agent_memory\"\n",
    "    - namespace: \"demo_session_1\"\n",
    "    \"\"\"\n",
    ")\n",
    "\n",
    "print(\"✓ Memory-enabled agent created\")"
   ]
  },
  {
   "cell_type": "markdown",
   "metadata": {},
   "source": [
    "## Demonstrating Memory Functionality\n",
    "\n",
    "Let's test the agent's memory capabilities with some example interactions:"
   ]
  },
  {
   "cell_type": "markdown",
   "metadata": {},
   "source": [
    "### Example 1: Storing User Preferences"
   ]
  },
  {
   "cell_type": "code",
   "execution_count": null,
   "metadata": {},
   "outputs": [],
   "source": [
    "# First interaction - introducing user preferences\n",
    "response1 = memory_agent(\n",
    "    f\"\"\"Hi! My name is Alice and I'm a data scientist. I love working with Python and machine learning. \n",
    "    My favorite ML framework is scikit-learn, and I prefer coffee over tea. \n",
    "    Please remember these details about me using your memory tool.\n",
    "    \n",
    "    Use these connection details:\n",
    "    - es_url: {es_url}\n",
    "    - api_key: {es_api_key}\n",
    "    - index_name: agent_memory\n",
    "    - namespace: demo_session_1\n",
    "    \"\"\"\n",
    ")\n",
    "\n",
    "print(\"Agent Response:\")\n",
    "print(response1)"
   ]
  },
  {
   "cell_type": "markdown",
   "metadata": {},
   "source": [
    "### Example 2: Retrieving Stored Information"
   ]
  },
  {
   "cell_type": "code",
   "execution_count": null,
   "metadata": {},
   "outputs": [],
   "source": [
    "# Second interaction - testing memory recall\n",
    "response2 = memory_agent(\n",
    "    f\"\"\"What do you remember about me? What are my preferences? \n",
    "    Please retrieve this information from your memory.\n",
    "    \n",
    "    Use these connection details:\n",
    "    - es_url: {es_url}\n",
    "    - api_key: {es_api_key}\n",
    "    - index_name: agent_memory\n",
    "    - namespace: demo_session_1\n",
    "    \"\"\"\n",
    ")\n",
    "\n",
    "print(\"Agent Response:\")\n",
    "print(response2)"
   ]
  },
  {
   "cell_type": "markdown",
   "metadata": {},
   "source": [
    "### Example 3: Contextual Recommendations"
   ]
  },
  {
   "cell_type": "code",
   "execution_count": null,
   "metadata": {},
   "outputs": [],
   "source": [
    "# Third interaction - using memory for personalized recommendations\n",
    "response3 = memory_agent(\n",
    "    f\"\"\"I'm working on a new project and need some recommendations. \n",
    "    Can you suggest some tools or approaches based on what you know about me?\n",
    "    Please check your memory first to personalize your recommendations.\n",
    "    \n",
    "    Use these connection details:\n",
    "    - es_url: {es_url}\n",
    "    - api_key: {es_api_key}\n",
    "    - index_name: agent_memory\n",
    "    - namespace: demo_session_1\n",
    "    \"\"\"\n",
    ")\n",
    "\n",
    "print(\"Agent Response:\")\n",
    "print(response3)"
   ]
  },
  {
   "cell_type": "markdown",
   "metadata": {},
   "source": [
    "### Example 4: Adding New Information"
   ]
  },
  {
   "cell_type": "code",
   "execution_count": null,
   "metadata": {},
   "outputs": [],
   "source": [
    "# Fourth interaction - adding more information to memory\n",
    "response4 = memory_agent(\n",
    "    f\"\"\"I just completed a project using TensorFlow for deep learning. \n",
    "    It was about image classification for medical diagnosis. \n",
    "    I really enjoyed working with convolutional neural networks. \n",
    "    Please add this to what you know about me in your memory.\n",
    "    \n",
    "    Use these connection details:\n",
    "    - es_url: {es_url}\n",
    "    - api_key: {es_api_key}\n",
    "    - index_name: agent_memory\n",
    "    - namespace: demo_session_1\n",
    "    \"\"\"\n",
    ")\n",
    "\n",
    "print(\"Agent Response:\")\n",
    "print(response4)"
   ]
  },
  {
   "cell_type": "markdown",
   "metadata": {},
   "source": [
    "### Example 5: Comprehensive Memory Recall"
   ]
  },
  {
   "cell_type": "code",
   "execution_count": null,
   "metadata": {},
   "outputs": [],
   "source": [
    "# Fifth interaction - testing comprehensive memory\n",
    "response5 = memory_agent(\n",
    "    f\"\"\"Can you give me a summary of everything you know about me and my work? \n",
    "    I want to see how well you remember our conversations. Please retrieve all relevant memories.\n",
    "    \n",
    "    Use these connection details:\n",
    "    - es_url: {es_url}\n",
    "    - api_key: {es_api_key}\n",
    "    - index_name: agent_memory\n",
    "    - namespace: demo_session_1\n",
    "    \"\"\"\n",
    ")\n",
    "\n",
    "print(\"Agent Response:\")\n",
    "print(response5)"
   ]
  },
  {
   "cell_type": "markdown",
   "metadata": {},
   "source": [
    "## Testing Memory Persistence Across Sessions\n",
    "\n",
    "Let's create a new agent instance to test memory persistence using the same namespace:"
   ]
  },
  {
   "cell_type": "code",
   "execution_count": null,
   "metadata": {},
   "outputs": [],
   "source": [
    "# Create a new agent instance\n",
    "new_agent = Agent(\n",
    "    model=bedrock_model,\n",
    "    tools=[elasticsearch_memory],\n",
    "    system_prompt=\"\"\"You are a helpful assistant with persistent memory capabilities. \n",
    "    You can store important information about users and conversations using your elasticsearch_memory tool.\n",
    "    Always try to remember key details about users, their preferences, and previous conversations.\n",
    "    When appropriate, retrieve relevant memories to provide personalized responses.\n",
    "    \"\"\"\n",
    ")\n",
    "\n",
    "# Test if the new agent remembers previous conversations\n",
    "persistence_test = new_agent(\n",
    "    f\"\"\"Hello! Do you remember me? What do you know about my background and projects?\n",
    "    Please check your memory to see if you have any information about me.\n",
    "    \n",
    "    Use these connection details:\n",
    "    - es_url: {es_url}\n",
    "    - api_key: {es_api_key}\n",
    "    - index_name: agent_memory\n",
    "    - namespace: demo_session_1\n",
    "    \"\"\"\n",
    ")\n",
    "\n",
    "print(\"New Agent Response (Testing Persistence):\")\n",
    "print(persistence_test)"
   ]
  },
  {
   "cell_type": "markdown",
   "metadata": {},
   "source": [
    "## Advanced Memory Operations\n",
    "\n",
    "Let's explore some advanced memory operations:"
   ]
  },
  {
   "cell_type": "markdown",
   "metadata": {},
   "source": [
    "### Searching Specific Memories"
   ]
  },
  {
   "cell_type": "code",
   "execution_count": null,
   "metadata": {},
   "outputs": [],
   "source": [
    "# Search for specific information in memory\n",
    "search_response = memory_agent(\n",
    "    f\"\"\"Can you find any memories related to machine learning frameworks I've mentioned? \n",
    "    I want to see what ML tools I've discussed with you. Please search your memory.\n",
    "    \n",
    "    Use these connection details:\n",
    "    - es_url: {es_url}\n",
    "    - api_key: {es_api_key}\n",
    "    - index_name: agent_memory\n",
    "    - namespace: demo_session_1\n",
    "    \"\"\"\n",
    ")\n",
    "\n",
    "print(\"Search Response:\")\n",
    "print(search_response)"
   ]
  },
  {
   "cell_type": "markdown",
   "metadata": {},
   "source": [
    "### Memory-Based Decision Making"
   ]
  },
  {
   "cell_type": "code",
   "execution_count": null,
   "metadata": {},
   "outputs": [],
   "source": [
    "# Use memory for decision making\n",
    "decision_response = memory_agent(\n",
    "    f\"\"\"I'm starting a new computer vision project. Based on my previous experience and preferences, \n",
    "    what approach would you recommend? Consider my past projects and preferred tools.\n",
    "    Please check your memory to provide personalized recommendations.\n",
    "    \n",
    "    Use these connection details:\n",
    "    - es_url: {es_url}\n",
    "    - api_key: {es_api_key}\n",
    "    - index_name: agent_memory\n",
    "    - namespace: demo_session_1\n",
    "    \"\"\"\n",
    ")\n",
    "\n",
    "print(\"Decision Response:\")\n",
    "print(decision_response)"
   ]
  },
  {
   "cell_type": "markdown",
   "metadata": {},
   "source": [
    "## Direct Tool Usage Example\n",
    "\n",
    "You can also use the elasticsearch_memory tool directly for more control:"
   ]
  },
  {
   "cell_type": "code",
   "execution_count": null,
   "metadata": {},
   "outputs": [],
   "source": [
    "# Example of direct tool usage (if needed for debugging or direct access)\n",
    "# This shows how the tool works under the hood\n",
    "\n",
    "# Create a simple agent for direct tool calls\n",
    "direct_agent = Agent(\n",
    "    model=bedrock_model,\n",
    "    tools=[elasticsearch_memory]\n",
    ")\n",
    "\n",
    "# Direct memory storage\n",
    "direct_result = direct_agent.tool.elasticsearch_memory(\n",
    "    action=\"record\",\n",
    "    content=\"Direct tool usage example: User likes Python programming\",\n",
    "    metadata={\"category\": \"preferences\", \"type\": \"programming\"},\n",
    "    es_url=es_url,\n",
    "    api_key=es_api_key,\n",
    "    index_name=\"agent_memory\",\n",
    "    namespace=\"demo_session_1\"\n",
    ")\n",
    "\n",
    "print(\"Direct Tool Result:\")\n",
    "print(direct_result)"
   ]
  },
  {
   "cell_type": "markdown",
   "metadata": {},
   "source": [
    "## Memory Management Best Practices\n",
    "\n",
    "Here are some examples of good memory management practices:"
   ]
  },
  {
   "cell_type": "code",
   "execution_count": null,
   "metadata": {},
   "outputs": [],
   "source": [
    "# Example of organizing memories by categories\n",
    "organization_response = memory_agent(\n",
    "    f\"\"\"Please organize what you know about me into categories like: \n",
    "    Personal Info, Technical Skills, Project Experience, and Preferences. \n",
    "    This will help structure our future conversations. Please retrieve and organize your memories.\n",
    "    \n",
    "    Use these connection details:\n",
    "    - es_url: {es_url}\n",
    "    - api_key: {es_api_key}\n",
    "    - index_name: agent_memory\n",
    "    - namespace: demo_session_1\n",
    "    \"\"\"\n",
    ")\n",
    "\n",
    "print(\"Organization Response:\")\n",
    "print(organization_response)"
   ]
  },
  {
   "cell_type": "markdown",
   "metadata": {},
   "source": [
    "## Troubleshooting\n",
    "\n",
    "If you encounter issues:\n",
    "\n",
    "1. **Import Error**: Make sure you installed with the correct optional dependency:\n",
    "   ```bash\n",
    "   pip install \"strands-agents-tools[elasticsearch-memory]\"\n",
    "   ```\n",
    "\n",
    "2. **Connection Error**: Verify your Elasticsearch URL and API key are correct\n",
    "\n",
    "3. **AWS Credentials**: The tool requires AWS credentials for Bedrock embeddings:\n",
    "   ```bash\n",
    "   aws configure\n",
    "   ```\n",
    "   Or set environment variables:\n",
    "   ```bash\n",
    "   export AWS_ACCESS_KEY_ID=your_key\n",
    "   export AWS_SECRET_ACCESS_KEY=your_secret\n",
    "   export AWS_DEFAULT_REGION=us-east-1\n",
    "   ```\n",
    "\n",
    "4. **Index Issues**: The tool will automatically create the index if it doesn't exist\n",
    "\n",
    "5. **Import Issues**: If you get import errors, try:\n",
    "   ```python\n",
    "   # Alternative import patterns to try:\n",
    "   from strands_tools import elasticsearch_memory\n",
    "   # or\n",
    "   import strands_tools\n",
    "   elasticsearch_memory = strands_tools.elasticsearch_memory\n",
    "   ```"
   ]
  },
  {
   "cell_type": "markdown",
   "metadata": {},
   "source": [
    "## Conclusion\n",
    "\n",
    "You have now experimented with the `elasticsearch_memory` tool in Strands SDK and learned how to:\n",
    "\n",
    "### Key Takeaways\n",
    "\n",
    "- **Tool Integration**: Successfully integrated `elasticsearch_memory` as a tool in a Strands agent\n",
    "- **Persistent Memory**: Demonstrated how agents can maintain memory across different sessions\n",
    "- **Personalization**: Showed how memory enables personalized and contextual responses\n",
    "- **Security**: Used secure credential handling with getpass instead of hardcoding\n",
    "- **Practical Applications**: Explored real-world use cases for memory-enabled agents\n",
    "- **Direct Tool Usage**: Learned how to use the tool directly when needed\n",
    "\n",
    "### Next Steps\n",
    "\n",
    "- Experiment with different namespaces to create separate memory contexts\n",
    "- Try using multiple memory tools for different types of information\n",
    "- Explore memory search and filtering capabilities\n",
    "- Integrate with other Strands tools for more complex workflows\n",
    "- Consider memory cleanup and management strategies for production use\n",
    "\n",
    "### Benefits of Elasticsearch Memory\n",
    "\n",
    "- **Scalability**: Elasticsearch provides robust storage for large amounts of memory data\n",
    "- **Search Capabilities**: Advanced search and filtering of stored memories using semantic similarity\n",
    "- **Persistence**: Memories survive across agent restarts and deployments\n",
    "- **Performance**: Fast retrieval of relevant context for agent responses\n",
    "- **Flexibility**: Support for both Elasticsearch Cloud and serverless deployments\n",
    "\n",
    "### Technical Details\n",
    "\n",
    "- **Embeddings**: Uses Amazon Bedrock Titan models for semantic search\n",
    "- **Vector Search**: Implements k-NN search with cosine similarity\n",
    "- **Namespace Isolation**: Supports multi-tenant applications\n",
    "- **CRUD Operations**: Full support for create, read, update, delete operations\n",
    "\n",
    "## Thank You\n",
    "\n",
    "This notebook demonstrated the power of combining Strands agents with Elasticsearch-backed memory for creating intelligent, context-aware AI assistants."
   ]
  }
 ],
 "metadata": {
  "kernelspec": {
   "display_name": "Python 3 (ipykernel)",
   "language": "python",
   "name": "python3"
  },
  "language_info": {
   "codemirror_mode": {
    "name": "ipython",
    "version": 3
   },
   "file_extension": ".py",
   "mimetype": "text/x-python",
   "name": "python",
   "nbconvert_exporter": "python",
   "pygments_lexer": "ipython3",
   "version": "3.11.7"
  }
 },
 "nbformat": 4,
 "nbformat_minor": 4
}
