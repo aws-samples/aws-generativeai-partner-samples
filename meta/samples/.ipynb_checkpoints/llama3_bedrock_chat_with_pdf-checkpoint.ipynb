{
 "cells": [
  {
   "cell_type": "markdown",
   "id": "1ca5b45b",
   "metadata": {},
   "source": [
    "# 🦙 Chat with PDF using Meta LLaMA 3 on Amazon Bedrock"
   ]
  },
  {
   "cell_type": "markdown",
   "id": "7b523878",
   "metadata": {},
   "source": [
    "\n",
    "This notebook demonstrates how to use Meta's **LLaMA 3** model via **Amazon Bedrock** to chat with content extracted from a PDF document.\n",
    "\n",
    "You'll:\n",
    "- Upload a PDF to **Amazon S3**\n",
    "- Extract its content using **PyMuPDF**\n",
    "- Query **LLaMA 3** via **Bedrock**\n"
   ]
  },
  {
   "cell_type": "code",
   "execution_count": null,
   "id": "f64163a3",
   "metadata": {},
   "outputs": [],
   "source": [
    "# ✅ Install dependencies\n",
    "!pip install boto3 pymupdf --quiet"
   ]
  },
  {
   "cell_type": "code",
   "execution_count": null,
   "id": "c557d86b",
   "metadata": {},
   "outputs": [],
   "source": [
    "# ✅ Initialize clients and variables\n",
    "import boto3\n",
    "import json\n",
    "import fitz  # PyMuPDF\n",
    "import os\n",
    "\n",
    "# Bedrock + S3 clients\n",
    "region = 'us-east-1'\n",
    "bedrock = boto3.client('bedrock-runtime', region_name=region)\n",
    "s3 = boto3.client('s3', region_name=region)\n",
    "\n",
    "# Constants\n",
    "BEDROCK_MODEL_ID = 'meta.llama3-8b-instruct-v1:0'\n",
    "S3_BUCKET = 'llama3-chat-data'\n",
    "PDF_FILE = 'sample.pdf'\n",
    "PDF_S3_KEY = 'uploads/sample.pdf'\n"
   ]
  },
  {
   "cell_type": "code",
   "execution_count": null,
   "id": "4040ceea",
   "metadata": {},
   "outputs": [],
   "source": [
    "# ✅ Upload PDF to S3 (replace local path if needed)\n",
    "if os.path.exists(PDF_FILE):\n",
    "    s3.upload_file(PDF_FILE, S3_BUCKET, PDF_S3_KEY)\n",
    "    print(f\"✅ Uploaded {PDF_FILE} to s3://{S3_BUCKET}/{PDF_S3_KEY}\")\n",
    "else:\n",
    "    print(f\"⚠️ PDF file '{PDF_FILE}' not found. Please upload one.\")\n"
   ]
  },
  {
   "cell_type": "code",
   "execution_count": null,
   "id": "f8fad7b9",
   "metadata": {},
   "outputs": [],
   "source": [
    "# 📄 Extract text from PDF\n",
    "doc_text = \"\"\n",
    "if os.path.exists(PDF_FILE):\n",
    "    with fitz.open(PDF_FILE) as doc:\n",
    "        for page in doc:\n",
    "            doc_text += page.get_text()\n",
    "\n",
    "print(doc_text[:1000])  # preview\n"
   ]
  },
  {
   "cell_type": "code",
   "execution_count": null,
   "id": "fe6a5087",
   "metadata": {},
   "outputs": [],
   "source": [
    "# 🤖 Bedrock: Query LLaMA 3\n",
    "\n",
    "def query_llama3(prompt):\n",
    "    body = {\n",
    "        \"prompt\": prompt,\n",
    "        \"max_gen_len\": 512,\n",
    "        \"temperature\": 0.7,\n",
    "        \"top_p\": 0.9\n",
    "    }\n",
    "    response = bedrock.invoke_model(\n",
    "        modelId=BEDROCK_MODEL_ID,\n",
    "        body=json.dumps(body),\n",
    "        contentType=\"application/json\",\n",
    "        accept=\"application/json\"\n",
    "    )\n",
    "    result = json.loads(response['body'].read())\n",
    "    return result['generation']\n",
    "\n",
    "# Example\n",
    "query_llama3(\"Summarize this:\n",
    "\n",
    "\" + doc_text[:1000])\n"
   ]
  }
 ],
 "metadata": {
  "kernelspec": {
   "display_name": "Python 3 (Data Science)",
   "language": "python",
   "name": "python3"
  },
  "language_info": {
   "name": "python",
   "version": "3.9"
  }
 },
 "nbformat": 4,
 "nbformat_minor": 5
}
