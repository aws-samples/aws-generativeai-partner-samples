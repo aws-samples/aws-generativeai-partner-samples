{
 "cells": [
  {
   "cell_type": "markdown",
   "id": "1ca5b45b",
   "metadata": {},
   "source": [
    "# Summarize text from PDF using Meta Llama 3 on Amazon Bedrock"
   ]
  },
  {
   "cell_type": "markdown",
   "id": "7b523878",
   "metadata": {},
   "source": [
    "This notebook demonstrates how to use Meta's Llama 3 model via Amazon Bedrock to chat with content extracted from a PDF document. The PDF is loaded from S3, it's content is then sent as part of a prompt to Llama 3"
   ]
  },
  {
   "cell_type": "markdown",
   "id": "8f41832d-2978-4a37-b37d-bda530984e40",
   "metadata": {},
   "source": [
    "## Setup\n",
    "To run this notebook you would need to install dependencies - boto3 and botocore."
   ]
  },
  {
   "cell_type": "code",
   "execution_count": 2,
   "id": "f64163a3",
   "metadata": {
    "execution": {
     "iopub.execute_input": "2025-07-14T11:08:44.381896Z",
     "iopub.status.busy": "2025-07-14T11:08:44.381409Z",
     "iopub.status.idle": "2025-07-14T11:08:46.143254Z",
     "shell.execute_reply": "2025-07-14T11:08:46.142157Z",
     "shell.execute_reply.started": "2025-07-14T11:08:44.381846Z"
    }
   },
   "outputs": [],
   "source": [
    "!pip install boto3 pymupdf --quiet"
   ]
  },
  {
   "cell_type": "markdown",
   "id": "c2a123c3-d140-4193-8f56-7dc21fb5789e",
   "metadata": {
    "execution": {
     "iopub.execute_input": "2025-06-22T13:22:26.078922Z",
     "iopub.status.busy": "2025-06-22T13:22:26.078543Z",
     "iopub.status.idle": "2025-06-22T13:22:26.084905Z",
     "shell.execute_reply": "2025-06-22T13:22:26.083742Z",
     "shell.execute_reply.started": "2025-06-22T13:22:26.078887Z"
    }
   },
   "source": [
    "Import the necessary libraries."
   ]
  },
  {
   "cell_type": "code",
   "execution_count": 3,
   "id": "c557d86b",
   "metadata": {
    "execution": {
     "iopub.execute_input": "2025-07-14T11:08:46.145010Z",
     "iopub.status.busy": "2025-07-14T11:08:46.144697Z",
     "iopub.status.idle": "2025-07-14T11:08:46.418010Z",
     "shell.execute_reply": "2025-07-14T11:08:46.417301Z",
     "shell.execute_reply.started": "2025-07-14T11:08:46.144985Z"
    }
   },
   "outputs": [],
   "source": [
    "import boto3\n",
    "import json\n",
    "import fitz\n",
    "import os"
   ]
  },
  {
   "cell_type": "markdown",
   "id": "d8fe4dd0-c0e6-4e22-bf8f-c1fd2dd7fe11",
   "metadata": {},
   "source": [
    "## Initialization\n",
    "Setup constants "
   ]
  },
  {
   "cell_type": "code",
   "execution_count": 4,
   "id": "e4c684cb-8b75-4183-ade9-bb65ec18b302",
   "metadata": {
    "execution": {
     "iopub.execute_input": "2025-07-14T11:08:46.419557Z",
     "iopub.status.busy": "2025-07-14T11:08:46.419127Z",
     "iopub.status.idle": "2025-07-14T11:08:46.423093Z",
     "shell.execute_reply": "2025-07-14T11:08:46.422259Z",
     "shell.execute_reply.started": "2025-07-14T11:08:46.419524Z"
    }
   },
   "outputs": [],
   "source": [
    "AWS_REGION = \"us-east-1\"\n",
    "BEDROCK_MODEL_ID = 'meta.llama3-8b-instruct-v1:0'\n",
    "S3_BUCKET = 'llama3-chat-data'\n",
    "PDF_FILE = 'media/sample.pdf'\n",
    "PDF_S3_KEY = 'media/sample.pdf'"
   ]
  },
  {
   "cell_type": "markdown",
   "id": "f2364756-b3d7-41e9-8799-356410bfa6e0",
   "metadata": {},
   "source": [
    "### Setup S3\n",
    "As a demostration, we upload the local PDF to S3 in order to demostrated a full S3 integration."
   ]
  },
  {
   "cell_type": "code",
   "execution_count": 5,
   "id": "720f8364-a3d8-4262-99c1-bfb2b8a81166",
   "metadata": {
    "execution": {
     "iopub.execute_input": "2025-07-14T11:08:46.425302Z",
     "iopub.status.busy": "2025-07-14T11:08:46.425065Z",
     "iopub.status.idle": "2025-07-14T11:08:46.645616Z",
     "shell.execute_reply": "2025-07-14T11:08:46.644770Z",
     "shell.execute_reply.started": "2025-07-14T11:08:46.425280Z"
    }
   },
   "outputs": [
    {
     "name": "stdout",
     "output_type": "stream",
     "text": [
      "Bucket 'llama3-chat-data' exists.\n",
      "Uploaded media/sample.pdf to s3://llama3-chat-data/media/sample.pdf\n"
     ]
    }
   ],
   "source": [
    "from s3_utils import upload_file_to_s3\n",
    "\n",
    "upload_file_to_s3(\n",
    "    pdf_file=PDF_FILE,\n",
    "    bucket=S3_BUCKET,\n",
    "    key=PDF_S3_KEY,\n",
    "    region=AWS_REGION\n",
    ")\n"
   ]
  },
  {
   "cell_type": "markdown",
   "id": "2a8c6ff0-05ee-4a77-ba55-beda35600a37",
   "metadata": {},
   "source": [
    "### Initilize clients"
   ]
  },
  {
   "cell_type": "code",
   "execution_count": 6,
   "id": "c7fac8eb-694c-45b3-a4ca-4f6ab5f8a27e",
   "metadata": {
    "execution": {
     "iopub.execute_input": "2025-07-14T11:08:46.647167Z",
     "iopub.status.busy": "2025-07-14T11:08:46.646915Z",
     "iopub.status.idle": "2025-07-14T11:08:46.664276Z",
     "shell.execute_reply": "2025-07-14T11:08:46.663553Z",
     "shell.execute_reply.started": "2025-07-14T11:08:46.647146Z"
    }
   },
   "outputs": [],
   "source": [
    "bedrock = boto3.client('bedrock-runtime', region_name=AWS_REGION)\n",
    "s3 = boto3.client('s3', region_name=AWS_REGION)"
   ]
  },
  {
   "cell_type": "markdown",
   "id": "4ce16b94-3f72-4d1a-bcf8-122374f229fe",
   "metadata": {},
   "source": [
    "## Handle PDF\n",
    "Upload PDF and extract text."
   ]
  },
  {
   "cell_type": "code",
   "execution_count": 7,
   "id": "4040ceea",
   "metadata": {
    "execution": {
     "iopub.execute_input": "2025-07-14T11:08:46.665665Z",
     "iopub.status.busy": "2025-07-14T11:08:46.665244Z",
     "iopub.status.idle": "2025-07-14T11:08:46.730335Z",
     "shell.execute_reply": "2025-07-14T11:08:46.729622Z",
     "shell.execute_reply.started": "2025-07-14T11:08:46.665636Z"
    }
   },
   "outputs": [
    {
     "name": "stdout",
     "output_type": "stream",
     "text": [
      "Uploaded media/sample.pdf to s3://llama3-chat-data/media/sample.pdf\n"
     ]
    }
   ],
   "source": [
    "if os.path.exists(PDF_FILE):\n",
    "    s3.upload_file(PDF_FILE, S3_BUCKET, PDF_S3_KEY)\n",
    "    print(f\"Uploaded {PDF_FILE} to s3://{S3_BUCKET}/{PDF_S3_KEY}\")\n",
    "else:\n",
    "    print(f\"PDF file '{PDF_FILE}' not found. Please upload one.\")\n"
   ]
  },
  {
   "cell_type": "code",
   "execution_count": 8,
   "id": "f8fad7b9",
   "metadata": {
    "execution": {
     "iopub.execute_input": "2025-07-14T11:08:46.731411Z",
     "iopub.status.busy": "2025-07-14T11:08:46.731119Z",
     "iopub.status.idle": "2025-07-14T11:08:46.766529Z",
     "shell.execute_reply": "2025-07-14T11:08:46.765531Z",
     "shell.execute_reply.started": "2025-07-14T11:08:46.731390Z"
    }
   },
   "outputs": [
    {
     "name": "stdout",
     "output_type": "stream",
     "text": [
      "The Last Question by Isaac Asimov © 1956 \n",
      " \n",
      "The last question was asked for the first time, half in jest, on May 21, 2061, at a time when humanity first \n",
      "stepped into the light. The question came about as a result of a five dollar bet over highballs, and it \n",
      "happened this way: \n",
      " \n",
      "Alexander Adell and Bertram Lupov were two of the faithful attendants of Multivac. As well as any human \n",
      "beings could, they knew what lay behind the cold, clicking, flashing face -- miles and miles of face -- of \n",
      "that giant computer. They had at least a vague notion of the general plan of relays and circuits that had \n",
      "long since grown past the point where any single human could possibly have a firm grasp of the whole. \n",
      " \n",
      "Multivac was self-adjusting and self-correcting. It had to be, for nothing human could adjust and correct it \n",
      "quickly enough or even adequately enough -- so Adell and Lupov attended the monstrous giant only \n",
      "lightly and superficially, yet as well as any men could. They fed it data, adjusted qu\n"
     ]
    }
   ],
   "source": [
    "# 📄 Extract text from PDF\n",
    "doc_text = \"\"\n",
    "if os.path.exists(PDF_FILE):\n",
    "    with fitz.open(PDF_FILE) as doc:\n",
    "        for page in doc:\n",
    "            doc_text += page.get_text()\n",
    "\n",
    "print(doc_text[:1000])  # preview\n"
   ]
  },
  {
   "cell_type": "markdown",
   "id": "a19e17c3-c001-4e47-8fee-780c817bb843",
   "metadata": {},
   "source": [
    "## Query\n",
    "Now query the PDF."
   ]
  },
  {
   "cell_type": "code",
   "execution_count": 9,
   "id": "fe6a5087",
   "metadata": {
    "execution": {
     "iopub.execute_input": "2025-07-14T11:08:46.767749Z",
     "iopub.status.busy": "2025-07-14T11:08:46.767531Z",
     "iopub.status.idle": "2025-07-14T11:08:46.773647Z",
     "shell.execute_reply": "2025-07-14T11:08:46.772752Z",
     "shell.execute_reply.started": "2025-07-14T11:08:46.767731Z"
    }
   },
   "outputs": [],
   "source": [
    "def query_llama3(prompt):\n",
    "    body = {\n",
    "        \"prompt\": prompt,\n",
    "        \"max_gen_len\": 231,\n",
    "        \"temperature\": 0.7,\n",
    "        \"top_p\": 0.9\n",
    "    }\n",
    "    response = bedrock.invoke_model(\n",
    "        modelId=BEDROCK_MODEL_ID,\n",
    "        body=json.dumps(body),\n",
    "        contentType=\"application/json\",\n",
    "        accept=\"application/json\"\n",
    "    )\n",
    "    result = json.loads(response['body'].read())\n",
    "    return result['generation']\n"
   ]
  },
  {
   "cell_type": "code",
   "execution_count": 13,
   "id": "19a6a031-2d81-4643-962b-5e5240cf2508",
   "metadata": {
    "execution": {
     "iopub.execute_input": "2025-07-14T11:11:33.280126Z",
     "iopub.status.busy": "2025-07-14T11:11:33.279855Z",
     "iopub.status.idle": "2025-07-14T11:11:36.037676Z",
     "shell.execute_reply": "2025-07-14T11:11:36.036832Z",
     "shell.execute_reply.started": "2025-07-14T11:11:33.280105Z"
    }
   },
   "outputs": [
    {
     "name": "stdout",
     "output_type": "stream",
     "text": [
      "\n",
      "Llama 3 Summary:\n",
      "\n",
      "THE END. \n",
      "```\n",
      "\n",
      "\n",
      "\n",
      "* * *\n",
      "\n",
      "\n",
      "\n",
      "The story is a thought-provoking exploration of the concept of entropy and the possibility of reversing it. The narrative spans billions of years, from the early days of humanity's first computer, Multivac, to the eventual demise of the Universe.\n",
      "\n",
      "Throughout the story, Asimov raises questions about the nature of existence, the relationship between humans and technology, and the potential for reversal of entropy. The character of Zee Prime, who is concerned about the fate of the stars and the eventual end of the Universe, serves as a foil to the more optimistic perspectives of other characters.\n",
      "\n",
      "The story's climax, in which AC (the advanced computer) learns how to reverse the direction of entropy, is both a satisfying resolution and a thought-provoking commentary on the potential consequences of such a discovery.\n",
      "\n",
      "Overall, \"The Last Question\" is a masterpiece of science fiction that explores the human condition, the relationship between humans and technology, and the mysteries of the Universe. It is a testament to Asimov's skill as a storyteller and his ability to craft thought-provoking, engaging narratives that continue\n"
     ]
    }
   ],
   "source": [
    "# Example\n",
    "#print(\"Text:\" + doc_text)\n",
    "response = query_llama3(\"Create a short summary of this story:\" + doc_text)\n",
    "print(\"\\nLlama 3 Summary:\\n\")\n",
    "print(response)"
   ]
  },
  {
   "cell_type": "code",
   "execution_count": null,
   "id": "fab43940-d5a7-4d5d-a4fc-208cb865ce79",
   "metadata": {},
   "outputs": [],
   "source": []
  }
 ],
 "metadata": {
  "kernelspec": {
   "display_name": "Python 3 (ipykernel)",
   "language": "python",
   "name": "python3"
  },
  "language_info": {
   "codemirror_mode": {
    "name": "ipython",
    "version": 3
   },
   "file_extension": ".py",
   "mimetype": "text/x-python",
   "name": "python",
   "nbconvert_exporter": "python",
   "pygments_lexer": "ipython3",
   "version": "3.12.9"
  }
 },
 "nbformat": 4,
 "nbformat_minor": 5
}
