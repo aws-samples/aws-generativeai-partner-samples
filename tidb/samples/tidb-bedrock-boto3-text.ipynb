{
 "nbformat": 4,
 "nbformat_minor": 0,
 "metadata": {
  "colab": {
   "provenance": []
  },
  "kernelspec": {
   "name": "python3",
   "display_name": "Python 3"
  },
  "language_info": {
   "name": "python"
  }
 },
 "cells": [
  {
   "cell_type": "markdown",
   "source": [
    "# Build a Text Retrieve Example with TiDB, Amazon Titan Text Embeddings V2, Amazon Bedrock and Boto3\n",
    "\n",
    "## Introduction\n",
    "\n",
    "In this notebook we will show you how to use TiDB and Boto3 SDK to retrieve text with Amazon Titan Text Embeddings V2 and Amazon Bedrock. [TiDB](https://tidb.cloud/?utm_source=github&utm_medium=community&utm_campaign=video_aws_example_generativeai_cm_0624) is an open-source distributed SQL database that supports Hybrid Transactional and Analytical Processing (HTAP) workloads. It is MySQL compatible and features horizontal scalability, strong consistency, and high availability. You can deploy TiDB in a self-hosted environment or in the cloud.\n",
    "\n",
    "### Use case\n",
    "\n",
    "To demonstrate the vector search capability of TiDB Serverless, and embedding capability of Amazon Titan Text Embeddings V2, let's take the use case of vector cosine distance search.\n",
    "\n",
    "### Persona\n",
    "\n",
    "You are a TiDB user, you want to build a searching engine about TiDB. So you need to retrieve the related text to the question, using embedding and vector search features to achieve it.\n",
    "\n",
    "### Implementation\n",
    "\n",
    "To fulfill this use case, in this notebook we will show how to create embedding vectors based on the text chunks, save it to TiDB Serverless, use vector search feature to get the nearest vector and its text chunk. We will use the TiDB and the Amazon Titan Text Embeddings V2 model through the Amazon Bedrock API with Boto3 SDK."
   ],
   "metadata": {
    "id": "mcRagbTFCtkQ"
   }
  },
  {
   "cell_type": "markdown",
   "source": [
    "### Python 3.10\n",
    "\n",
    "⚠  For this lab we need to run the notebook based on a Python 3.10 runtime. ⚠"
   ],
   "metadata": {
    "collapsed": false
   }
  },
  {
   "cell_type": "markdown",
   "source": [
    "## Installation\n",
    "\n",
    "To run this notebook you would need to install dependencies - SQLAlchemy, tidb-vector, PyMySQL, boto3."
   ],
   "metadata": {
    "collapsed": false
   }
  },
  {
   "cell_type": "code",
   "source": [
    "%%capture\n",
    "%pip install --upgrade pip\n",
    "%pip install PyMySQL==1.1.0 --force-reinstall --quiet\n",
    "%pip install SQLAlchemy==2.0.30 --force-reinstall --quiet\n",
    "%pip install tidb-vector==0.0.9 --force-reinstall --quiet\n",
    "%pip install boto3 --force-reinstall --quiet"
   ],
   "metadata": {
    "id": "H7GBL0x8CtFi"
   },
   "execution_count": null,
   "outputs": []
  },
  {
   "cell_type": "markdown",
   "source": [
    "## Kernel Restart\n",
    "\n",
    "Restart the kernel with the updated packages that are installed through the dependencies above"
   ],
   "metadata": {
    "collapsed": false
   }
  },
  {
   "cell_type": "code",
   "execution_count": null,
   "outputs": [],
   "source": [
    "# restart kernel\n",
    "from IPython.core.display import HTML\n",
    "HTML(\"<script>Jupyter.notebook.kernel.restart()</script>\")"
   ],
   "metadata": {
    "collapsed": false
   }
  },
  {
   "cell_type": "markdown",
   "source": [
    "## Setup\n",
    "\n",
    "Import the necessary libraries"
   ],
   "metadata": {
    "collapsed": false
   }
  },
  {
   "cell_type": "code",
   "execution_count": null,
   "outputs": [],
   "source": [
    "from sqlalchemy import Column, Integer, Text, create_engine, URL\n",
    "from sqlalchemy.orm import Session, declarative_base\n",
    "from tidb_vector.sqlalchemy import VectorType\n",
    "\n",
    "import json\n",
    "import os\n",
    "import boto3"
   ],
   "metadata": {
    "collapsed": false
   }
  },
  {
   "cell_type": "markdown",
   "source": [
    "## Initialization\n",
    "\n",
    "Connect to a TiDB Cloud Cluster and Initiate Bedrock Runtime Client"
   ],
   "metadata": {
    "id": "rEIutFAuCfB1"
   }
  },
  {
   "cell_type": "code",
   "execution_count": null,
   "metadata": {
    "id": "XvOd0tLXCdL2"
   },
   "outputs": [],
   "source": [
    "def get_db_url():\n",
    "    return URL(\n",
    "        drivername=\"mysql+pymysql\",\n",
    "        username=os.environ[\"TIDB_USER\"],\n",
    "        password=os.environ[\"TIDB_PASSWORD\"],\n",
    "        host=os.environ['TIDB_HOST'],\n",
    "        port=int(os.environ[\"TIDB_PORT\"]),\n",
    "        database=os.environ[\"TIDB_DB_NAME\"],\n",
    "        query={\"ssl_verify_cert\": True, \"ssl_verify_identity\": True},\n",
    "    )\n",
    "\n",
    "engine = create_engine(get_db_url(), pool_recycle=300)\n",
    "bedrock_runtime = boto3.client('bedrock-runtime')"
   ]
  },
  {
   "cell_type": "markdown",
   "source": [
    "## Payload Creation\n",
    "\n",
    "Create payload to request Amazon Titan Text Embeddings V2 to make an embedding vector。"
   ],
   "metadata": {
    "collapsed": false
   }
  },
  {
   "cell_type": "code",
   "execution_count": null,
   "outputs": [],
   "source": [
    "model_name = \"amazon.titan-embed-text-v2:0\"\n",
    "dim_of_embedding_model = 512\n",
    "\n",
    "def create_payload(input_text: str):\n",
    "    return {\n",
    "        \"modelId\": model_name,\n",
    "        \"contentType\": \"application/json\",\n",
    "        \"accept\": \"*/*\",\n",
    "        \"body\": {\n",
    "            \"inputText\": input_text,\n",
    "            \"dimensions\": dim_of_embedding_model,\n",
    "            \"normalize\": True,\n",
    "        }\n",
    "    }"
   ],
   "metadata": {
    "collapsed": false
   }
  },
  {
   "cell_type": "markdown",
   "source": [
    "## TiDB Table and Vector Index\n",
    "\n",
    "Create table and its vector index in TiDB Serverless to store text and vector."
   ],
   "metadata": {
    "id": "FlcXrbveO8K_"
   }
  },
  {
   "cell_type": "code",
   "source": [
    "Base = declarative_base()\n",
    "class Entity(Base):\n",
    "    __tablename__ = \"entity\"\n",
    "\n",
    "    id = Column(Integer, primary_key=True)\n",
    "    content = Column(Text)\n",
    "    content_vec = Column(\n",
    "        VectorType(dim=dim_of_embedding_model),\n",
    "        comment=\"hnsw(distance=l2)\"\n",
    "    )\n",
    "\n",
    "Base.metadata.create_all(engine)"
   ],
   "metadata": {
    "id": "Imxs62BgO75j"
   },
   "execution_count": null,
   "outputs": []
  },
  {
   "cell_type": "markdown",
   "source": [
    "## Model invocation\n",
    "\n",
    "Invoke the Amazon Titan Text Embeddings V2 model using bedrock runtime client\n",
    "\n",
    "Amazon Bedrock runtime client provides you with an API `invoke_model` which accepts the following:\n",
    "- `modelId`: This is the model ARN for the foundation model available in Amazon Bedrock\n",
    "- `accept`: The type of input request\n",
    "- `contentType`: The content type of the output\n",
    "- `body`: A json string payload consisting of the prompt and the configurations"
   ],
   "metadata": {
    "collapsed": false
   }
  },
  {
   "cell_type": "code",
   "execution_count": null,
   "outputs": [],
   "source": [
    "def embedding(content):\n",
    "\n",
    "    payload = create_payload(content)\n",
    "    # Convert the payload to bytes\n",
    "    body_bytes = json.dumps(payload['body']).encode('utf-8')\n",
    "\n",
    "    # Invoke the model\n",
    "    response = bedrock_runtime.invoke_model(\n",
    "        body=body_bytes,\n",
    "        contentType=payload['contentType'],\n",
    "        accept=payload['accept'],\n",
    "        modelId=payload['modelId']\n",
    "    )\n",
    "\n",
    "    result_body = json.loads(response.get(\"body\").read())\n",
    "\n",
    "    return result_body.get(\"embedding\")"
   ],
   "metadata": {
    "collapsed": false
   }
  },
  {
   "cell_type": "markdown",
   "source": [
    "## Save Vector to TiDB Serverless\n",
    "\n",
    "Save 3 records with embedding vector to TiDB Serverless."
   ],
   "metadata": {
    "collapsed": false
   }
  },
  {
   "cell_type": "code",
   "execution_count": null,
   "outputs": [],
   "source": [
    "tidb_content = 'TiDB is an open-source distributed SQL database that supports \\\n",
    "Hybrid Transactional and Analytical Processing (HTAP) workloads.'\n",
    "tikv_content = 'TiKV is an open-source, distributed, and transactional \\\n",
    "key-value database. Unlike other traditional NoSQL systems.'\n",
    "pd_content = 'The Placement Driver (PD) server is the metadata \\\n",
    "managing component of the entire cluster.'\n",
    "\n",
    "with Session(engine) as session:\n",
    "    session.add(Entity(content = tidb_content, content_vec = embedding(tidb_content)))\n",
    "    session.add(Entity(content = tikv_content, content_vec = embedding(tikv_content)))\n",
    "    session.add(Entity(content = pd_content, content_vec = embedding(pd_content)))\n",
    "    session.commit()"
   ],
   "metadata": {
    "collapsed": false
   }
  },
  {
   "cell_type": "markdown",
   "source": [
    "# Retrieve Content via Vector Cosine Distance"
   ],
   "metadata": {
    "id": "tkVwR55KUbMd"
   }
  },
  {
   "cell_type": "code",
   "source": [
    "query = 'What is TiDB?'\n",
    "embedding_query = embedding(query)\n",
    "\n",
    "with Session(engine) as session:\n",
    "    entity = session.query(Entity).order_by(\n",
    "        Entity.content_vec.cosine_distance(embedding_query)\n",
    "    ).limit(1).first()\n",
    "\n",
    "    print(entity.content)"
   ],
   "metadata": {
    "colab": {
     "base_uri": "https://localhost:8080/"
    },
    "id": "MJTgmS49UhFT",
    "outputId": "6cfb158f-9786-499a-c676-4df5ecb1f711"
   },
   "execution_count": null,
   "outputs": []
  }
 ]
}
